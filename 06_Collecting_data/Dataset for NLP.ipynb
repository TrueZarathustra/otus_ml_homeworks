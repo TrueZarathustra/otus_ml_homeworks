{
 "cells": [
  {
   "cell_type": "markdown",
   "metadata": {},
   "source": [
    "# Otus Machine Learning Course. Homework №6 (сбор данных и работа с текстом)\n",
    "### Воротников Владимир"
   ]
  },
  {
   "cell_type": "markdown",
   "metadata": {},
   "source": [
    "### Ссылки на основные этапы проделанной работы\n",
    "\n",
    "[1. Creating own dataset](#1.-Creating-own-dataset)\n",
    "\n",
    "[1.1 Parsing with scrapy](#1.1-Parsing-with-scrapy)\n",
    "\n",
    "[1.2 Basic data preparation](#1.2-Basic-Data-Preparation)\n",
    "\n",
    "[2. NLP](#2.-NLP)\n",
    "\n",
    "[2.1 Text Preparation](#2.1-Text-preparation)\n",
    "\n",
    "[2.2 Data modeling with linear regression](#2.2-Data-modeling-with-linear-regression)\n",
    "\n",
    "[2.3 Tuning parameters](#2.3-Tuning-parameters)\n",
    "\n",
    "[3. Conclusion](#3.-Conclusion)"
   ]
  },
  {
   "cell_type": "code",
   "execution_count": 1,
   "metadata": {},
   "outputs": [],
   "source": [
    "import numpy as np\n",
    "import pandas as pd\n",
    "import seaborn as sns\n",
    "\n",
    "import matplotlib.pyplot as plt\n",
    "%matplotlib inline\n",
    "\n",
    "from IPython.display import display\n",
    "\n",
    "import warnings\n",
    "warnings.filterwarnings(\"ignore\")\n",
    "plt.rcParams[\"figure.figsize\"] = [18, 8]"
   ]
  },
  {
   "cell_type": "markdown",
   "metadata": {},
   "source": [
    "## 1. Creating own dataset"
   ]
  },
  {
   "cell_type": "markdown",
   "metadata": {},
   "source": [
    "Выбранная цель для парсинга - текст отзывов на книги (найденные по запросу \"Data Science) с сайта Amazon. \n",
    "\n",
    "Целевая переменная - количество звёзд, полученных книгой в обзоре (от 1 до 5)."
   ]
  },
  {
   "cell_type": "markdown",
   "metadata": {},
   "source": [
    "В качестве инструмента для парсинга используется scrapy"
   ]
  },
  {
   "cell_type": "markdown",
   "metadata": {},
   "source": [
    "### 1.1 Parsing with scrapy\n",
    "(в данном документе показаны ключевые функции парсера, но не дано полное описание его использования)"
   ]
  },
  {
   "cell_type": "markdown",
   "metadata": {},
   "source": [
    "Парсер с помощью которого вытаскиваются ссылки на книги (которые потом потребуются для сбора ревью и оценок):"
   ]
  },
  {
   "cell_type": "code",
   "execution_count": null,
   "metadata": {},
   "outputs": [],
   "source": [
    "import scrapy\n",
    "class AmazonBooksSpider(scrapy.Spider):\n",
    " \n",
    "    # Spider name\n",
    "    name = 'amazon_books_list'\n",
    " \n",
    "    # Domain names to scrape\n",
    "    allowed_domains = ['amazon.com']\n",
    " \n",
    "    # Base URL\n",
    "    myBaseUrl = \"https://www.amazon.com/s?k=data+science&i=stripbooks-intl-ship&page=\"\n",
    "    start_urls=[]\n",
    " \n",
    "    # Creating list of urls to be scraped by appending page number a the end of base url\n",
    "    for i in range(1,76):\n",
    "        start_urls.append(myBaseUrl+str(i))\n",
    " \n",
    "    # Defining a Scrapy parser\n",
    "    def parse(self, response):\n",
    "            data = response.css('.s-main-slot')\n",
    " \n",
    "            href = data.css('.s-no-outline')\n",
    "\n",
    "            for h in href:\n",
    "                yield {'href' : str(h.attrib['href'])}\n",
    " "
   ]
  },
  {
   "cell_type": "markdown",
   "metadata": {},
   "source": [
    "Парсер с помощью которого вытаскиваются текст отзыва на книги и оценка:"
   ]
  },
  {
   "cell_type": "code",
   "execution_count": null,
   "metadata": {},
   "outputs": [],
   "source": [
    "import scrapy\n",
    "class AmazonReviewsSpider(scrapy.Spider):\n",
    " \n",
    "    # Spider name\n",
    "    name = 'amazon_reviews'\n",
    " \n",
    "    # Domain names to scrape\n",
    "    allowed_domains = ['amazon.com']\n",
    "    \n",
    "    start_urls=[]\n",
    "\n",
    "    with open('book_review_hrefs.csv', 'r') as f:\n",
    "        file_lines = []\n",
    "        for x in f.readlines():\n",
    "            start_urls.append(x)\n",
    " \n",
    "    # Defining a Scrapy parser\n",
    "    def parse(self, response):\n",
    "            data = response.css('#cm_cr-review_list')\n",
    " \n",
    "            # Collecting product star ratings\n",
    "            star_rating = data.css('.review-rating')\n",
    " \n",
    "            # Collecting user reviews\n",
    "            comments = data.css('.review-text')\n",
    "            count = 0\n",
    " \n",
    "            # Combining the results\n",
    "            for review in star_rating:\n",
    "                yield{'stars:': ''.join(review.xpath('.//text()').extract()),\n",
    "                      'comment:': ''.join(comments[count].xpath(\".//text()\").extract()),\n",
    "                      'url:': response.request.url,\n",
    "                     }\n",
    "                count=count+1"
   ]
  },
  {
   "cell_type": "markdown",
   "metadata": {},
   "source": [
    "### 1.2 Basic Data Preparation"
   ]
  },
  {
   "cell_type": "markdown",
   "metadata": {},
   "source": [
    "В результате был получен CSV-файл, содержащий текст отзывов на книги, оценку и ссылку на книги. После косметической обработки он выглядит следующим образом:"
   ]
  },
  {
   "cell_type": "code",
   "execution_count": 26,
   "metadata": {},
   "outputs": [],
   "source": [
    "data = pd.read_csv('data/reviews.csv')"
   ]
  },
  {
   "cell_type": "code",
   "execution_count": 27,
   "metadata": {},
   "outputs": [
    {
     "data": {
      "text/html": [
       "<div>\n",
       "<style scoped>\n",
       "    .dataframe tbody tr th:only-of-type {\n",
       "        vertical-align: middle;\n",
       "    }\n",
       "\n",
       "    .dataframe tbody tr th {\n",
       "        vertical-align: top;\n",
       "    }\n",
       "\n",
       "    .dataframe thead th {\n",
       "        text-align: right;\n",
       "    }\n",
       "</style>\n",
       "<table border=\"1\" class=\"dataframe\">\n",
       "  <thead>\n",
       "    <tr style=\"text-align: right;\">\n",
       "      <th></th>\n",
       "      <th>stars</th>\n",
       "      <th>comment</th>\n",
       "      <th>url</th>\n",
       "      <th>id</th>\n",
       "    </tr>\n",
       "  </thead>\n",
       "  <tbody>\n",
       "    <tr>\n",
       "      <th>0</th>\n",
       "      <td>5.0</td>\n",
       "      <td>Let me say at the outset of this review, that ...</td>\n",
       "      <td>https://www.amazon.com/dp/1492041130</td>\n",
       "      <td>1492041130</td>\n",
       "    </tr>\n",
       "    <tr>\n",
       "      <th>1</th>\n",
       "      <td>1.0</td>\n",
       "      <td>Its Capitalism at its best. I read the book fr...</td>\n",
       "      <td>https://www.amazon.com/dp/1492041130</td>\n",
       "      <td>1492041130</td>\n",
       "    </tr>\n",
       "    <tr>\n",
       "      <th>2</th>\n",
       "      <td>5.0</td>\n",
       "      <td>If you're looking to get started with data sci...</td>\n",
       "      <td>https://www.amazon.com/dp/1492041130</td>\n",
       "      <td>1492041130</td>\n",
       "    </tr>\n",
       "    <tr>\n",
       "      <th>3</th>\n",
       "      <td>4.0</td>\n",
       "      <td>In general, this is a good book. It covers a w...</td>\n",
       "      <td>https://www.amazon.com/dp/1492041130</td>\n",
       "      <td>1492041130</td>\n",
       "    </tr>\n",
       "    <tr>\n",
       "      <th>4</th>\n",
       "      <td>5.0</td>\n",
       "      <td>I was an academic data scientist decades befor...</td>\n",
       "      <td>https://www.amazon.com/dp/1492041130</td>\n",
       "      <td>1492041130</td>\n",
       "    </tr>\n",
       "  </tbody>\n",
       "</table>\n",
       "</div>"
      ],
      "text/plain": [
       "   stars                                            comment  \\\n",
       "0    5.0  Let me say at the outset of this review, that ...   \n",
       "1    1.0  Its Capitalism at its best. I read the book fr...   \n",
       "2    5.0  If you're looking to get started with data sci...   \n",
       "3    4.0  In general, this is a good book. It covers a w...   \n",
       "4    5.0  I was an academic data scientist decades befor...   \n",
       "\n",
       "                                    url          id  \n",
       "0  https://www.amazon.com/dp/1492041130  1492041130  \n",
       "1  https://www.amazon.com/dp/1492041130  1492041130  \n",
       "2  https://www.amazon.com/dp/1492041130  1492041130  \n",
       "3  https://www.amazon.com/dp/1492041130  1492041130  \n",
       "4  https://www.amazon.com/dp/1492041130  1492041130  "
      ]
     },
     "execution_count": 27,
     "metadata": {},
     "output_type": "execute_result"
    }
   ],
   "source": [
    "data.head()"
   ]
  },
  {
   "cell_type": "code",
   "execution_count": 28,
   "metadata": {},
   "outputs": [
    {
     "data": {
      "text/plain": [
       "(20647, 4)"
      ]
     },
     "execution_count": 28,
     "metadata": {},
     "output_type": "execute_result"
    }
   ],
   "source": [
    "data.shape"
   ]
  },
  {
   "cell_type": "code",
   "execution_count": 29,
   "metadata": {},
   "outputs": [
    {
     "data": {
      "text/plain": [
       "'Let me say at the outset of this review, that I respect the author and the sheer guile of trying to attack what is a Ph.D. level topic, in a single book. I have been an SW engineer for the last 15 years, have an engineering degree, and have done some research into GA\\'s and image segmentation, many years ago... and I found this book challenging.When I was in college, the joke about Comp Sci was that it was really just \"applied math.\" That wasn\\'t really funny, but it is gosh-darned true, doubly so when dealing with data science, AI, and ML, all of which are fancy words for \"applied statistics.\"So, the book gives you a background in various topics such as stat, probability theory, linear algebra, programming, and touches on a few topics from calculus. If you\\'re unfamiliar with those things, you will not be able to learn them from one book, or all at once. It\\'s just too much.The author leaves lots of bread-crumbs for you to follow. If you\\'re not strong any of the subjects I\\'ve mentioned, plan on reading some of the books he recommends (most are online).After that, the book is a solid tour of data science, and surprisingly, there\\'s some material on AI/ML. All of it is well done. The only criticism I have is, I would have liked more equations alongside the code. I know equations scare people, but this is \"Data Science.\"TLDR? This is a serious-minded book for serious people. There aren\\'t any easy answers, but it\\'s a great education.'"
      ]
     },
     "execution_count": 29,
     "metadata": {},
     "output_type": "execute_result"
    }
   ],
   "source": [
    "data.loc[0].comment"
   ]
  },
  {
   "cell_type": "code",
   "execution_count": 30,
   "metadata": {},
   "outputs": [],
   "source": [
    "data.drop(['url', 'id'], axis=1, inplace=True)"
   ]
  },
  {
   "cell_type": "code",
   "execution_count": 31,
   "metadata": {},
   "outputs": [
    {
     "data": {
      "text/html": [
       "<div>\n",
       "<style scoped>\n",
       "    .dataframe tbody tr th:only-of-type {\n",
       "        vertical-align: middle;\n",
       "    }\n",
       "\n",
       "    .dataframe tbody tr th {\n",
       "        vertical-align: top;\n",
       "    }\n",
       "\n",
       "    .dataframe thead th {\n",
       "        text-align: right;\n",
       "    }\n",
       "</style>\n",
       "<table border=\"1\" class=\"dataframe\">\n",
       "  <thead>\n",
       "    <tr style=\"text-align: right;\">\n",
       "      <th></th>\n",
       "      <th>stars</th>\n",
       "      <th>comment</th>\n",
       "    </tr>\n",
       "  </thead>\n",
       "  <tbody>\n",
       "    <tr>\n",
       "      <th>0</th>\n",
       "      <td>5.0</td>\n",
       "      <td>Let me say at the outset of this review, that ...</td>\n",
       "    </tr>\n",
       "    <tr>\n",
       "      <th>1</th>\n",
       "      <td>1.0</td>\n",
       "      <td>Its Capitalism at its best. I read the book fr...</td>\n",
       "    </tr>\n",
       "    <tr>\n",
       "      <th>2</th>\n",
       "      <td>5.0</td>\n",
       "      <td>If you're looking to get started with data sci...</td>\n",
       "    </tr>\n",
       "    <tr>\n",
       "      <th>3</th>\n",
       "      <td>4.0</td>\n",
       "      <td>In general, this is a good book. It covers a w...</td>\n",
       "    </tr>\n",
       "    <tr>\n",
       "      <th>4</th>\n",
       "      <td>5.0</td>\n",
       "      <td>I was an academic data scientist decades befor...</td>\n",
       "    </tr>\n",
       "    <tr>\n",
       "      <th>...</th>\n",
       "      <td>...</td>\n",
       "      <td>...</td>\n",
       "    </tr>\n",
       "    <tr>\n",
       "      <th>20642</th>\n",
       "      <td>3.0</td>\n",
       "      <td>This book offers nice information and thoughts...</td>\n",
       "    </tr>\n",
       "    <tr>\n",
       "      <th>20643</th>\n",
       "      <td>5.0</td>\n",
       "      <td>Am disabled, retired RN, but always wished I w...</td>\n",
       "    </tr>\n",
       "    <tr>\n",
       "      <th>20644</th>\n",
       "      <td>3.0</td>\n",
       "      <td>At one point I considered library work as oppo...</td>\n",
       "    </tr>\n",
       "    <tr>\n",
       "      <th>20645</th>\n",
       "      <td>5.0</td>\n",
       "      <td>Overall, I think this is an excellent resource...</td>\n",
       "    </tr>\n",
       "    <tr>\n",
       "      <th>20646</th>\n",
       "      <td>5.0</td>\n",
       "      <td>GREAT</td>\n",
       "    </tr>\n",
       "  </tbody>\n",
       "</table>\n",
       "<p>20647 rows × 2 columns</p>\n",
       "</div>"
      ],
      "text/plain": [
       "       stars                                            comment\n",
       "0        5.0  Let me say at the outset of this review, that ...\n",
       "1        1.0  Its Capitalism at its best. I read the book fr...\n",
       "2        5.0  If you're looking to get started with data sci...\n",
       "3        4.0  In general, this is a good book. It covers a w...\n",
       "4        5.0  I was an academic data scientist decades befor...\n",
       "...      ...                                                ...\n",
       "20642    3.0  This book offers nice information and thoughts...\n",
       "20643    5.0  Am disabled, retired RN, but always wished I w...\n",
       "20644    3.0  At one point I considered library work as oppo...\n",
       "20645    5.0  Overall, I think this is an excellent resource...\n",
       "20646    5.0                                              GREAT\n",
       "\n",
       "[20647 rows x 2 columns]"
      ]
     },
     "execution_count": 31,
     "metadata": {},
     "output_type": "execute_result"
    }
   ],
   "source": [
    "data"
   ]
  },
  {
   "cell_type": "code",
   "execution_count": 32,
   "metadata": {},
   "outputs": [
    {
     "data": {
      "text/plain": [
       "<matplotlib.axes._subplots.AxesSubplot at 0x21ebc2d59c8>"
      ]
     },
     "execution_count": 32,
     "metadata": {},
     "output_type": "execute_result"
    },
    {
     "data": {
      "image/png": "[encoded data removed]",
      "text/plain": [
       "<Figure size 1296x576 with 1 Axes>"
      ]
     },
     "metadata": {
      "needs_background": "light"
     },
     "output_type": "display_data"
    }
   ],
   "source": [
    "data.stars.hist()"
   ]
  },
  {
   "cell_type": "code",
   "execution_count": 33,
   "metadata": {},
   "outputs": [
    {
     "data": {
      "text/plain": [
       "5.0    13963\n",
       "4.0     2894\n",
       "3.0     1431\n",
       "1.0     1430\n",
       "2.0      929\n",
       "Name: stars, dtype: int64"
      ]
     },
     "execution_count": 33,
     "metadata": {},
     "output_type": "execute_result"
    }
   ],
   "source": [
    "data.stars.value_counts()"
   ]
  },
  {
   "cell_type": "code",
   "execution_count": 34,
   "metadata": {},
   "outputs": [
    {
     "data": {
      "text/plain": [
       "5.0    0.676273\n",
       "4.0    0.140166\n",
       "3.0    0.069308\n",
       "1.0    0.069259\n",
       "2.0    0.044994\n",
       "Name: stars, dtype: float64"
      ]
     },
     "execution_count": 34,
     "metadata": {},
     "output_type": "execute_result"
    }
   ],
   "source": [
    "data.stars.value_counts()/len(data)"
   ]
  },
  {
   "cell_type": "markdown",
   "metadata": {},
   "source": [
    "Мы видим, что датасет довольно сильно несбалансирован. Немного компенсируем это удалением самых коротких комментариев с рейтингом 5."
   ]
  },
  {
   "cell_type": "code",
   "execution_count": 35,
   "metadata": {},
   "outputs": [
    {
     "data": {
      "text/plain": [
       "5.0    2084\n",
       "4.0     316\n",
       "1.0     120\n",
       "3.0      95\n",
       "2.0      61\n",
       "Name: stars, dtype: int64"
      ]
     },
     "execution_count": 35,
     "metadata": {},
     "output_type": "execute_result"
    }
   ],
   "source": [
    "data[data.comment.apply(len)<50].stars.value_counts()"
   ]
  },
  {
   "cell_type": "code",
   "execution_count": 36,
   "metadata": {},
   "outputs": [],
   "source": [
    "data = data.drop(data[data.comment.apply(len)<50][data.stars==5.0].index)"
   ]
  },
  {
   "cell_type": "code",
   "execution_count": 37,
   "metadata": {},
   "outputs": [
    {
     "data": {
      "text/plain": [
       "5.0    0.639929\n",
       "4.0    0.155902\n",
       "3.0    0.077089\n",
       "1.0    0.077035\n",
       "2.0    0.050046\n",
       "Name: stars, dtype: float64"
      ]
     },
     "execution_count": 37,
     "metadata": {},
     "output_type": "execute_result"
    }
   ],
   "source": [
    "data.stars.value_counts()/len(data)"
   ]
  },
  {
   "cell_type": "markdown",
   "metadata": {},
   "source": [
    "## 2. NLP"
   ]
  },
  {
   "cell_type": "code",
   "execution_count": 39,
   "metadata": {},
   "outputs": [],
   "source": [
    "import nltk\n",
    "from nltk.tokenize import RegexpTokenizer\n",
    "# nltk.download('stopwords')\n",
    "# nltk.download('wordnet')\n",
    "from nltk.corpus import stopwords\n",
    "from sklearn.feature_extraction import DictVectorizer\n",
    "import string\n",
    "from collections import Counter\n",
    "from sklearn.model_selection import train_test_split\n"
   ]
  },
  {
   "cell_type": "markdown",
   "metadata": {},
   "source": [
    "### 2.1 Text preparation"
   ]
  },
  {
   "cell_type": "code",
   "execution_count": 40,
   "metadata": {},
   "outputs": [],
   "source": [
    "X_train, X_test, y_train, y_test = train_test_split(data.comment, data.stars, test_size=0.3, random_state=37)"
   ]
  },
  {
   "cell_type": "code",
   "execution_count": 41,
   "metadata": {},
   "outputs": [],
   "source": [
    "from sklearn.feature_extraction.text import TfidfVectorizer\n",
    "vectorizer = TfidfVectorizer(stop_words='english', norm=None, min_df=0.005, max_df=0.05)\n",
    "features_train = vectorizer.fit_transform(X_train).todense()\n",
    "features_test = vectorizer.transform(X_test).todense()"
   ]
  },
  {
   "cell_type": "code",
   "execution_count": 42,
   "metadata": {},
   "outputs": [
    {
     "data": {
      "text/plain": [
       "1285"
      ]
     },
     "execution_count": 42,
     "metadata": {},
     "output_type": "execute_result"
    }
   ],
   "source": [
    "len(vectorizer.vocabulary_)"
   ]
  },
  {
   "cell_type": "code",
   "execution_count": 43,
   "metadata": {},
   "outputs": [
    {
     "data": {
      "text/plain": [
       "(12994, 1285)"
      ]
     },
     "execution_count": 43,
     "metadata": {},
     "output_type": "execute_result"
    }
   ],
   "source": [
    "features_train.shape"
   ]
  },
  {
   "cell_type": "code",
   "execution_count": 44,
   "metadata": {},
   "outputs": [
    {
     "data": {
      "text/plain": [
       "(5569, 1285)"
      ]
     },
     "execution_count": 44,
     "metadata": {},
     "output_type": "execute_result"
    }
   ],
   "source": [
    "features_test.shape"
   ]
  },
  {
   "cell_type": "code",
   "execution_count": 45,
   "metadata": {},
   "outputs": [],
   "source": [
    "train_matrix = pd.DataFrame(\n",
    "    features_train, \n",
    "    columns=vectorizer.get_feature_names()\n",
    ")\n",
    "\n",
    "test_matrix = pd.DataFrame(\n",
    "    features_test, \n",
    "    columns=vectorizer.get_feature_names()\n",
    ")"
   ]
  },
  {
   "cell_type": "code",
   "execution_count": 46,
   "metadata": {},
   "outputs": [
    {
     "data": {
      "text/html": [
       "<div>\n",
       "<style scoped>\n",
       "    .dataframe tbody tr th:only-of-type {\n",
       "        vertical-align: middle;\n",
       "    }\n",
       "\n",
       "    .dataframe tbody tr th {\n",
       "        vertical-align: top;\n",
       "    }\n",
       "\n",
       "    .dataframe thead th {\n",
       "        text-align: right;\n",
       "    }\n",
       "</style>\n",
       "<table border=\"1\" class=\"dataframe\">\n",
       "  <thead>\n",
       "    <tr style=\"text-align: right;\">\n",
       "      <th></th>\n",
       "      <th>000</th>\n",
       "      <th>10</th>\n",
       "      <th>100</th>\n",
       "      <th>11</th>\n",
       "      <th>12</th>\n",
       "      <th>15</th>\n",
       "      <th>20</th>\n",
       "      <th>25</th>\n",
       "      <th>2nd</th>\n",
       "      <th>30</th>\n",
       "      <th>...</th>\n",
       "      <th>write</th>\n",
       "      <th>writer</th>\n",
       "      <th>writes</th>\n",
       "      <th>writing</th>\n",
       "      <th>wrong</th>\n",
       "      <th>wrote</th>\n",
       "      <th>year</th>\n",
       "      <th>yes</th>\n",
       "      <th>young</th>\n",
       "      <th>youtube</th>\n",
       "    </tr>\n",
       "  </thead>\n",
       "  <tbody>\n",
       "    <tr>\n",
       "      <th>0</th>\n",
       "      <td>0.0</td>\n",
       "      <td>0.0</td>\n",
       "      <td>0.0</td>\n",
       "      <td>0.0</td>\n",
       "      <td>0.0</td>\n",
       "      <td>0.000000</td>\n",
       "      <td>0.0</td>\n",
       "      <td>0.0</td>\n",
       "      <td>0.000000</td>\n",
       "      <td>0.0</td>\n",
       "      <td>...</td>\n",
       "      <td>0.0</td>\n",
       "      <td>0.0</td>\n",
       "      <td>0.0</td>\n",
       "      <td>0.0</td>\n",
       "      <td>0.0</td>\n",
       "      <td>0.0</td>\n",
       "      <td>0.0</td>\n",
       "      <td>0.000000</td>\n",
       "      <td>0.0000</td>\n",
       "      <td>0.0</td>\n",
       "    </tr>\n",
       "    <tr>\n",
       "      <th>1</th>\n",
       "      <td>0.0</td>\n",
       "      <td>0.0</td>\n",
       "      <td>0.0</td>\n",
       "      <td>0.0</td>\n",
       "      <td>0.0</td>\n",
       "      <td>0.000000</td>\n",
       "      <td>0.0</td>\n",
       "      <td>0.0</td>\n",
       "      <td>0.000000</td>\n",
       "      <td>0.0</td>\n",
       "      <td>...</td>\n",
       "      <td>0.0</td>\n",
       "      <td>0.0</td>\n",
       "      <td>0.0</td>\n",
       "      <td>0.0</td>\n",
       "      <td>0.0</td>\n",
       "      <td>0.0</td>\n",
       "      <td>0.0</td>\n",
       "      <td>0.000000</td>\n",
       "      <td>0.0000</td>\n",
       "      <td>0.0</td>\n",
       "    </tr>\n",
       "    <tr>\n",
       "      <th>2</th>\n",
       "      <td>0.0</td>\n",
       "      <td>0.0</td>\n",
       "      <td>0.0</td>\n",
       "      <td>0.0</td>\n",
       "      <td>0.0</td>\n",
       "      <td>0.000000</td>\n",
       "      <td>0.0</td>\n",
       "      <td>0.0</td>\n",
       "      <td>0.000000</td>\n",
       "      <td>0.0</td>\n",
       "      <td>...</td>\n",
       "      <td>0.0</td>\n",
       "      <td>0.0</td>\n",
       "      <td>0.0</td>\n",
       "      <td>0.0</td>\n",
       "      <td>0.0</td>\n",
       "      <td>0.0</td>\n",
       "      <td>0.0</td>\n",
       "      <td>0.000000</td>\n",
       "      <td>0.0000</td>\n",
       "      <td>0.0</td>\n",
       "    </tr>\n",
       "    <tr>\n",
       "      <th>3</th>\n",
       "      <td>0.0</td>\n",
       "      <td>0.0</td>\n",
       "      <td>0.0</td>\n",
       "      <td>0.0</td>\n",
       "      <td>0.0</td>\n",
       "      <td>0.000000</td>\n",
       "      <td>0.0</td>\n",
       "      <td>0.0</td>\n",
       "      <td>0.000000</td>\n",
       "      <td>0.0</td>\n",
       "      <td>...</td>\n",
       "      <td>0.0</td>\n",
       "      <td>0.0</td>\n",
       "      <td>0.0</td>\n",
       "      <td>0.0</td>\n",
       "      <td>0.0</td>\n",
       "      <td>0.0</td>\n",
       "      <td>0.0</td>\n",
       "      <td>0.000000</td>\n",
       "      <td>0.0000</td>\n",
       "      <td>0.0</td>\n",
       "    </tr>\n",
       "    <tr>\n",
       "      <th>4</th>\n",
       "      <td>0.0</td>\n",
       "      <td>0.0</td>\n",
       "      <td>0.0</td>\n",
       "      <td>0.0</td>\n",
       "      <td>0.0</td>\n",
       "      <td>0.000000</td>\n",
       "      <td>0.0</td>\n",
       "      <td>0.0</td>\n",
       "      <td>0.000000</td>\n",
       "      <td>0.0</td>\n",
       "      <td>...</td>\n",
       "      <td>0.0</td>\n",
       "      <td>0.0</td>\n",
       "      <td>0.0</td>\n",
       "      <td>0.0</td>\n",
       "      <td>0.0</td>\n",
       "      <td>0.0</td>\n",
       "      <td>0.0</td>\n",
       "      <td>0.000000</td>\n",
       "      <td>0.0000</td>\n",
       "      <td>0.0</td>\n",
       "    </tr>\n",
       "    <tr>\n",
       "      <th>...</th>\n",
       "      <td>...</td>\n",
       "      <td>...</td>\n",
       "      <td>...</td>\n",
       "      <td>...</td>\n",
       "      <td>...</td>\n",
       "      <td>...</td>\n",
       "      <td>...</td>\n",
       "      <td>...</td>\n",
       "      <td>...</td>\n",
       "      <td>...</td>\n",
       "      <td>...</td>\n",
       "      <td>...</td>\n",
       "      <td>...</td>\n",
       "      <td>...</td>\n",
       "      <td>...</td>\n",
       "      <td>...</td>\n",
       "      <td>...</td>\n",
       "      <td>...</td>\n",
       "      <td>...</td>\n",
       "      <td>...</td>\n",
       "      <td>...</td>\n",
       "    </tr>\n",
       "    <tr>\n",
       "      <th>12989</th>\n",
       "      <td>0.0</td>\n",
       "      <td>0.0</td>\n",
       "      <td>0.0</td>\n",
       "      <td>0.0</td>\n",
       "      <td>0.0</td>\n",
       "      <td>0.000000</td>\n",
       "      <td>0.0</td>\n",
       "      <td>0.0</td>\n",
       "      <td>0.000000</td>\n",
       "      <td>0.0</td>\n",
       "      <td>...</td>\n",
       "      <td>0.0</td>\n",
       "      <td>0.0</td>\n",
       "      <td>0.0</td>\n",
       "      <td>0.0</td>\n",
       "      <td>0.0</td>\n",
       "      <td>0.0</td>\n",
       "      <td>0.0</td>\n",
       "      <td>0.000000</td>\n",
       "      <td>5.8772</td>\n",
       "      <td>0.0</td>\n",
       "    </tr>\n",
       "    <tr>\n",
       "      <th>12990</th>\n",
       "      <td>0.0</td>\n",
       "      <td>0.0</td>\n",
       "      <td>0.0</td>\n",
       "      <td>0.0</td>\n",
       "      <td>0.0</td>\n",
       "      <td>5.790189</td>\n",
       "      <td>0.0</td>\n",
       "      <td>0.0</td>\n",
       "      <td>6.006412</td>\n",
       "      <td>0.0</td>\n",
       "      <td>...</td>\n",
       "      <td>0.0</td>\n",
       "      <td>0.0</td>\n",
       "      <td>0.0</td>\n",
       "      <td>0.0</td>\n",
       "      <td>0.0</td>\n",
       "      <td>0.0</td>\n",
       "      <td>0.0</td>\n",
       "      <td>0.000000</td>\n",
       "      <td>0.0000</td>\n",
       "      <td>0.0</td>\n",
       "    </tr>\n",
       "    <tr>\n",
       "      <th>12991</th>\n",
       "      <td>0.0</td>\n",
       "      <td>0.0</td>\n",
       "      <td>0.0</td>\n",
       "      <td>0.0</td>\n",
       "      <td>0.0</td>\n",
       "      <td>0.000000</td>\n",
       "      <td>0.0</td>\n",
       "      <td>0.0</td>\n",
       "      <td>0.000000</td>\n",
       "      <td>0.0</td>\n",
       "      <td>...</td>\n",
       "      <td>0.0</td>\n",
       "      <td>0.0</td>\n",
       "      <td>0.0</td>\n",
       "      <td>0.0</td>\n",
       "      <td>0.0</td>\n",
       "      <td>0.0</td>\n",
       "      <td>0.0</td>\n",
       "      <td>10.429649</td>\n",
       "      <td>0.0000</td>\n",
       "      <td>0.0</td>\n",
       "    </tr>\n",
       "    <tr>\n",
       "      <th>12992</th>\n",
       "      <td>0.0</td>\n",
       "      <td>0.0</td>\n",
       "      <td>0.0</td>\n",
       "      <td>0.0</td>\n",
       "      <td>0.0</td>\n",
       "      <td>0.000000</td>\n",
       "      <td>0.0</td>\n",
       "      <td>0.0</td>\n",
       "      <td>0.000000</td>\n",
       "      <td>0.0</td>\n",
       "      <td>...</td>\n",
       "      <td>0.0</td>\n",
       "      <td>0.0</td>\n",
       "      <td>0.0</td>\n",
       "      <td>0.0</td>\n",
       "      <td>0.0</td>\n",
       "      <td>0.0</td>\n",
       "      <td>0.0</td>\n",
       "      <td>0.000000</td>\n",
       "      <td>0.0000</td>\n",
       "      <td>0.0</td>\n",
       "    </tr>\n",
       "    <tr>\n",
       "      <th>12993</th>\n",
       "      <td>0.0</td>\n",
       "      <td>0.0</td>\n",
       "      <td>0.0</td>\n",
       "      <td>0.0</td>\n",
       "      <td>0.0</td>\n",
       "      <td>0.000000</td>\n",
       "      <td>0.0</td>\n",
       "      <td>0.0</td>\n",
       "      <td>0.000000</td>\n",
       "      <td>0.0</td>\n",
       "      <td>...</td>\n",
       "      <td>0.0</td>\n",
       "      <td>0.0</td>\n",
       "      <td>0.0</td>\n",
       "      <td>0.0</td>\n",
       "      <td>0.0</td>\n",
       "      <td>0.0</td>\n",
       "      <td>0.0</td>\n",
       "      <td>0.000000</td>\n",
       "      <td>0.0000</td>\n",
       "      <td>0.0</td>\n",
       "    </tr>\n",
       "  </tbody>\n",
       "</table>\n",
       "<p>12994 rows × 1285 columns</p>\n",
       "</div>"
      ],
      "text/plain": [
       "       000   10  100   11   12        15   20   25       2nd   30  ...  write  \\\n",
       "0      0.0  0.0  0.0  0.0  0.0  0.000000  0.0  0.0  0.000000  0.0  ...    0.0   \n",
       "1      0.0  0.0  0.0  0.0  0.0  0.000000  0.0  0.0  0.000000  0.0  ...    0.0   \n",
       "2      0.0  0.0  0.0  0.0  0.0  0.000000  0.0  0.0  0.000000  0.0  ...    0.0   \n",
       "3      0.0  0.0  0.0  0.0  0.0  0.000000  0.0  0.0  0.000000  0.0  ...    0.0   \n",
       "4      0.0  0.0  0.0  0.0  0.0  0.000000  0.0  0.0  0.000000  0.0  ...    0.0   \n",
       "...    ...  ...  ...  ...  ...       ...  ...  ...       ...  ...  ...    ...   \n",
       "12989  0.0  0.0  0.0  0.0  0.0  0.000000  0.0  0.0  0.000000  0.0  ...    0.0   \n",
       "12990  0.0  0.0  0.0  0.0  0.0  5.790189  0.0  0.0  6.006412  0.0  ...    0.0   \n",
       "12991  0.0  0.0  0.0  0.0  0.0  0.000000  0.0  0.0  0.000000  0.0  ...    0.0   \n",
       "12992  0.0  0.0  0.0  0.0  0.0  0.000000  0.0  0.0  0.000000  0.0  ...    0.0   \n",
       "12993  0.0  0.0  0.0  0.0  0.0  0.000000  0.0  0.0  0.000000  0.0  ...    0.0   \n",
       "\n",
       "       writer  writes  writing  wrong  wrote  year        yes   young  youtube  \n",
       "0         0.0     0.0      0.0    0.0    0.0   0.0   0.000000  0.0000      0.0  \n",
       "1         0.0     0.0      0.0    0.0    0.0   0.0   0.000000  0.0000      0.0  \n",
       "2         0.0     0.0      0.0    0.0    0.0   0.0   0.000000  0.0000      0.0  \n",
       "3         0.0     0.0      0.0    0.0    0.0   0.0   0.000000  0.0000      0.0  \n",
       "4         0.0     0.0      0.0    0.0    0.0   0.0   0.000000  0.0000      0.0  \n",
       "...       ...     ...      ...    ...    ...   ...        ...     ...      ...  \n",
       "12989     0.0     0.0      0.0    0.0    0.0   0.0   0.000000  5.8772      0.0  \n",
       "12990     0.0     0.0      0.0    0.0    0.0   0.0   0.000000  0.0000      0.0  \n",
       "12991     0.0     0.0      0.0    0.0    0.0   0.0  10.429649  0.0000      0.0  \n",
       "12992     0.0     0.0      0.0    0.0    0.0   0.0   0.000000  0.0000      0.0  \n",
       "12993     0.0     0.0      0.0    0.0    0.0   0.0   0.000000  0.0000      0.0  \n",
       "\n",
       "[12994 rows x 1285 columns]"
      ]
     },
     "execution_count": 46,
     "metadata": {},
     "output_type": "execute_result"
    }
   ],
   "source": [
    "train_matrix"
   ]
  },
  {
   "cell_type": "markdown",
   "metadata": {},
   "source": [
    "### 2.2 Data modeling with linear regression"
   ]
  },
  {
   "cell_type": "code",
   "execution_count": 47,
   "metadata": {},
   "outputs": [],
   "source": [
    "from sklearn import metrics  # подгружаем метрики\n",
    "def mean_absolute_percentage_error(y_true, y_pred): \n",
    "    y_true, y_pred = np.array(y_true), np.array(y_pred)\n",
    "    return np.mean(np.abs((y_true - y_pred) / y_true)) * 100\n",
    "\n",
    "def dataframe_metrics(y_test,y_pred):\n",
    "    stats = [\n",
    "       metrics.mean_absolute_error(y_test, y_pred),\n",
    "       np.sqrt(metrics.mean_squared_error(y_test, y_pred)),\n",
    "       metrics.r2_score(y_test, y_pred),\n",
    "       mean_absolute_percentage_error(y_test, y_pred)\n",
    "    ]\n",
    "    return stats\n",
    "measured_metrics = pd.DataFrame({\"error_type\":[\"MAE\", \"RMSE\", \"R2\", \"MAPE\"]})"
   ]
  },
  {
   "cell_type": "code",
   "execution_count": 48,
   "metadata": {},
   "outputs": [
    {
     "data": {
      "text/html": [
       "<div>\n",
       "<style scoped>\n",
       "    .dataframe tbody tr th:only-of-type {\n",
       "        vertical-align: middle;\n",
       "    }\n",
       "\n",
       "    .dataframe tbody tr th {\n",
       "        vertical-align: top;\n",
       "    }\n",
       "\n",
       "    .dataframe thead th {\n",
       "        text-align: right;\n",
       "    }\n",
       "</style>\n",
       "<table border=\"1\" class=\"dataframe\">\n",
       "  <thead>\n",
       "    <tr style=\"text-align: right;\">\n",
       "      <th></th>\n",
       "      <th>error_type</th>\n",
       "      <th>naive</th>\n",
       "    </tr>\n",
       "  </thead>\n",
       "  <tbody>\n",
       "    <tr>\n",
       "      <th>0</th>\n",
       "      <td>MAE</td>\n",
       "      <td>0.762435</td>\n",
       "    </tr>\n",
       "    <tr>\n",
       "      <th>1</th>\n",
       "      <td>RMSE</td>\n",
       "      <td>1.460684</td>\n",
       "    </tr>\n",
       "    <tr>\n",
       "      <th>2</th>\n",
       "      <td>R2</td>\n",
       "      <td>-0.374484</td>\n",
       "    </tr>\n",
       "    <tr>\n",
       "      <th>3</th>\n",
       "      <td>MAPE</td>\n",
       "      <td>47.245167</td>\n",
       "    </tr>\n",
       "  </tbody>\n",
       "</table>\n",
       "</div>"
      ],
      "text/plain": [
       "  error_type      naive\n",
       "0        MAE   0.762435\n",
       "1       RMSE   1.460684\n",
       "2         R2  -0.374484\n",
       "3       MAPE  47.245167"
      ]
     },
     "execution_count": 48,
     "metadata": {},
     "output_type": "execute_result"
    }
   ],
   "source": [
    "y_mean = np.median(y_train)\n",
    "y_pred_naive = np.ones(len(y_test)) * y_mean\n",
    "measured_metrics[\"naive\"] = dataframe_metrics(y_test, y_pred_naive)\n",
    "measured_metrics"
   ]
  },
  {
   "cell_type": "code",
   "execution_count": 49,
   "metadata": {},
   "outputs": [
    {
     "name": "stdout",
     "output_type": "stream",
     "text": [
      "Лучшее значение параметра: 0.007774363690497935\n"
     ]
    },
    {
     "data": {
      "text/html": [
       "<div>\n",
       "<style scoped>\n",
       "    .dataframe tbody tr th:only-of-type {\n",
       "        vertical-align: middle;\n",
       "    }\n",
       "\n",
       "    .dataframe tbody tr th {\n",
       "        vertical-align: top;\n",
       "    }\n",
       "\n",
       "    .dataframe thead th {\n",
       "        text-align: right;\n",
       "    }\n",
       "</style>\n",
       "<table border=\"1\" class=\"dataframe\">\n",
       "  <thead>\n",
       "    <tr style=\"text-align: right;\">\n",
       "      <th></th>\n",
       "      <th>error_type</th>\n",
       "      <th>naive</th>\n",
       "      <th>lasso_cv</th>\n",
       "    </tr>\n",
       "  </thead>\n",
       "  <tbody>\n",
       "    <tr>\n",
       "      <th>0</th>\n",
       "      <td>MAE</td>\n",
       "      <td>0.762435</td>\n",
       "      <td>0.836261</td>\n",
       "    </tr>\n",
       "    <tr>\n",
       "      <th>1</th>\n",
       "      <td>RMSE</td>\n",
       "      <td>1.460684</td>\n",
       "      <td>1.095142</td>\n",
       "    </tr>\n",
       "    <tr>\n",
       "      <th>2</th>\n",
       "      <td>R2</td>\n",
       "      <td>-0.374484</td>\n",
       "      <td>0.227377</td>\n",
       "    </tr>\n",
       "    <tr>\n",
       "      <th>3</th>\n",
       "      <td>MAPE</td>\n",
       "      <td>47.245167</td>\n",
       "      <td>36.440324</td>\n",
       "    </tr>\n",
       "  </tbody>\n",
       "</table>\n",
       "</div>"
      ],
      "text/plain": [
       "  error_type      naive   lasso_cv\n",
       "0        MAE   0.762435   0.836261\n",
       "1       RMSE   1.460684   1.095142\n",
       "2         R2  -0.374484   0.227377\n",
       "3       MAPE  47.245167  36.440324"
      ]
     },
     "execution_count": 49,
     "metadata": {},
     "output_type": "execute_result"
    }
   ],
   "source": [
    "from sklearn.linear_model import LassoCV\n",
    "\n",
    "lasso_cv = LassoCV(cv=5)\n",
    "\n",
    "lasso_cv.fit(train_matrix, y_train)\n",
    "print('Лучшее значение параметра:', lasso_cv.alpha_)\n",
    "\n",
    "y_pred_lasso = lasso_cv.predict(test_matrix)\n",
    "\n",
    "measured_metrics[\"lasso_cv\"] = dataframe_metrics(y_test, y_pred_lasso)\n",
    "measured_metrics"
   ]
  },
  {
   "cell_type": "code",
   "execution_count": 51,
   "metadata": {},
   "outputs": [
    {
     "data": {
      "image/png": "[encoded data removed]",
      "text/plain": [
       "<Figure size 1296x576 with 1 Axes>"
      ]
     },
     "metadata": {
      "needs_background": "light"
     },
     "output_type": "display_data"
    }
   ],
   "source": [
    "featureImportance = pd.DataFrame({\"feature\": train_matrix.columns[abs(lasso_cv.coef_)>0.04], \n",
    "                                  \"importance\": lasso_cv.coef_[abs(lasso_cv.coef_)>0.04]})\n",
    "\n",
    "featureImportance.set_index('feature', inplace=True)\n",
    "featureImportance.sort_values([\"importance\"], ascending=False, inplace=True)\n",
    "featureImportance[\"importance\"].plot.bar();"
   ]
  },
  {
   "cell_type": "markdown",
   "metadata": {},
   "source": [
    "### 2.3 Tuning parameters"
   ]
  },
  {
   "cell_type": "markdown",
   "metadata": {},
   "source": [
    "Попробуем подобрать более удачные параметры"
   ]
  },
  {
   "cell_type": "code",
   "execution_count": 16,
   "metadata": {},
   "outputs": [
    {
     "name": "stdout",
     "output_type": "stream",
     "text": [
      "RMSE 1.071 params {'min_df': 0.005, 'max_df': 0.13, 'ngram_range': (1, 2)}                                             \n",
      "RMSE 1.148 params {'min_df': 0.0015, 'max_df': 0.19, 'ngram_range': (2, 2)}                                            \n",
      "RMSE 1.073 params {'min_df': 0.0005, 'max_df': 0.18, 'ngram_range': (1, 2)}                                            \n",
      "RMSE 1.104 params {'min_df': 0.007, 'max_df': 0.05, 'ngram_range': (1, 1)}                                             \n",
      "RMSE 1.077 params {'min_df': 0.002, 'max_df': 0.16, 'ngram_range': (1, 1)}                                             \n",
      "RMSE 1.082 params {'min_df': 0.008, 'max_df': 0.18, 'ngram_range': (1, 2)}                                             \n",
      "RMSE 1.195 params {'min_df': 0.005, 'max_df': 0.1, 'ngram_range': (2, 2)}                                              \n",
      "RMSE 1.074 params {'min_df': 0.0025, 'max_df': 0.14, 'ngram_range': (1, 1)}                                            \n",
      "RMSE 1.077 params {'min_df': 0.006, 'max_df': 0.19, 'ngram_range': (1, 1)}                                             \n",
      "RMSE 1.075 params {'min_df': 0.0015, 'max_df': 0.12, 'ngram_range': (1, 1)}                                            \n",
      "RMSE 1.072 params {'min_df': 0.004, 'max_df': 0.15, 'ngram_range': (1, 1)}                                             \n",
      "RMSE 1.071 params {'min_df': 0.006500000000000001, 'max_df': 0.17, 'ngram_range': (1, 2)}                              \n",
      "RMSE 1.205 params {'min_df': 0.0075, 'max_df': 0.05, 'ngram_range': (2, 2)}                                            \n",
      "RMSE 1.138 params {'min_df': 0.0005, 'max_df': 0.17, 'ngram_range': (2, 2)}                                            \n",
      "RMSE 1.183 params {'min_df': 0.004, 'max_df': 0.06, 'ngram_range': (2, 2)}                                             \n",
      "RMSE 1.158 params {'min_df': 0.0025, 'max_df': 0.12, 'ngram_range': (2, 2)}                                            \n",
      "RMSE 1.148 params {'min_df': 0.0015, 'max_df': 0.09, 'ngram_range': (2, 2)}                                            \n",
      "RMSE 1.073 params {'min_df': 0.003, 'max_df': 0.16, 'ngram_range': (1, 2)}                                             \n",
      "RMSE 1.158 params {'min_df': 0.0025, 'max_df': 0.11, 'ngram_range': (2, 2)}                                            \n",
      "RMSE 1.092 params {'min_df': 0.0085, 'max_df': 0.06, 'ngram_range': (1, 2)}                                            \n",
      "RMSE 1.073 params {'min_df': 0.006, 'max_df': 0.14, 'ngram_range': (1, 2)}                                             \n",
      "RMSE 1.074 params {'min_df': 0.006, 'max_df': 0.09, 'ngram_range': (1, 2)}                                             \n",
      "RMSE 1.070 params {'min_df': 0.0045000000000000005, 'max_df': 0.14, 'ngram_range': (1, 2)}                             \n",
      "RMSE 1.071 params {'min_df': 0.005, 'max_df': 0.13, 'ngram_range': (1, 2)}                                             \n",
      "RMSE 1.071 params {'min_df': 0.004, 'max_df': 0.14, 'ngram_range': (1, 2)}                                             \n",
      "RMSE 1.072 params {'min_df': 0.005, 'max_df': 0.08, 'ngram_range': (1, 2)}                                             \n",
      "RMSE 1.073 params {'min_df': 0.0035, 'max_df': 0.11, 'ngram_range': (1, 2)}                                            \n",
      "RMSE 1.072 params {'min_df': 0.0055, 'max_df': 0.13, 'ngram_range': (1, 2)}                                            \n",
      "RMSE 1.070 params {'min_df': 0.0045000000000000005, 'max_df': 0.15, 'ngram_range': (1, 2)}                             \n",
      "RMSE 1.070 params {'min_df': 0.0045000000000000005, 'max_df': 0.15, 'ngram_range': (1, 2)}                             \n",
      "RMSE 1.070 params {'min_df': 0.0035, 'max_df': 0.2, 'ngram_range': (1, 2)}                                             \n",
      "RMSE 1.076 params {'min_df': 0.007, 'max_df': 0.16, 'ngram_range': (1, 2)}                                             \n",
      "RMSE 1.071 params {'min_df': 0.0055, 'max_df': 0.15, 'ngram_range': (1, 2)}                                            \n",
      "RMSE 1.069 params {'min_df': 0.0045000000000000005, 'max_df': 0.19, 'ngram_range': (1, 2)}                             \n",
      "RMSE 1.069 params {'min_df': 0.0, 'max_df': 0.2, 'ngram_range': (1, 2)}                                                \n",
      "RMSE 1.069 params {'min_df': 0.0, 'max_df': 0.2, 'ngram_range': (1, 2)}                                                \n",
      "RMSE 1.076 params {'min_df': 0.0005, 'max_df': 0.19, 'ngram_range': (1, 1)}                                            \n",
      "RMSE 1.083 params {'min_df': 0.0085, 'max_df': 0.19, 'ngram_range': (1, 2)}                                            \n",
      "RMSE 1.076 params {'min_df': 0.001, 'max_df': 0.18, 'ngram_range': (1, 1)}                                             \n",
      "RMSE 1.089 params {'min_df': 0.009000000000000001, 'max_df': 0.18, 'ngram_range': (1, 2)}                              \n",
      "RMSE 1.071 params {'min_df': 0.002, 'max_df': 0.2, 'ngram_range': (1, 1)}                                              \n",
      "RMSE 1.080 params {'min_df': 0.0075, 'max_df': 0.17, 'ngram_range': (1, 2)}                                            \n",
      "RMSE 1.071 params {'min_df': 0.002, 'max_df': 0.2, 'ngram_range': (1, 1)}                                              \n",
      "RMSE 1.072 params {'min_df': 0.003, 'max_df': 0.19, 'ngram_range': (1, 2)}                                             \n",
      "RMSE 1.141 params {'min_df': 0.0, 'max_df': 0.17, 'ngram_range': (2, 2)}                                               \n",
      "RMSE 1.073 params {'min_df': 0.0015, 'max_df': 0.18, 'ngram_range': (1, 2)}                                            \n",
      "RMSE 1.202 params {'min_df': 0.006500000000000001, 'max_df': 0.17, 'ngram_range': (2, 2)}                              \n",
      "RMSE 1.077 params {'min_df': 0.001, 'max_df': 0.16, 'ngram_range': (1, 1)}                                             \n",
      "RMSE 1.072 params {'min_df': 0.001, 'max_df': 0.19, 'ngram_range': (1, 2)}                                             \n",
      "RMSE 1.163 params {'min_df': 0.003, 'max_df': 0.08, 'ngram_range': (2, 2)}                                             \n",
      "100%|████████████████████████████████████████████████| 50/50 [13:03<00:00, 15.67s/trial, best loss: 1.0690194818534156]\n"
     ]
    }
   ],
   "source": [
    "from hyperopt import hp, tpe\n",
    "from hyperopt.fmin import fmin\n",
    "\n",
    "def objective(params):\n",
    "    params = {'min_df': float(params['min_df']), 'max_df': float(params['max_df']), \n",
    "              'ngram_range': params['ngram_range']}\n",
    "    \n",
    "    vectorizer = TfidfVectorizer(stop_words='english', norm=None, max_features=1500, **params)\n",
    "    \n",
    "    features_train = vectorizer.fit_transform(X_train).todense()\n",
    "    features_test = vectorizer.transform(X_test).todense()\n",
    "    \n",
    "    train_matrix = pd.DataFrame(\n",
    "        features_train, \n",
    "        columns=vectorizer.get_feature_names()\n",
    "    )\n",
    "    test_matrix = pd.DataFrame(\n",
    "        features_test, \n",
    "        columns=vectorizer.get_feature_names()\n",
    "    )\n",
    "    \n",
    "    lasso_cv = LassoCV(cv=5, n_jobs=-1)\n",
    "    lasso_cv.fit(train_matrix, y_train)\n",
    "    y_pred_lasso = lasso_cv.predict(test_matrix)\n",
    "    \n",
    "    score = np.sqrt(metrics.mean_squared_error(y_test, y_pred_lasso))\n",
    "    print(\"RMSE {:.3f} params {}\".format(score, params))\n",
    "    return score\n",
    "\n",
    "space = {\n",
    "    'min_df': hp.quniform('min_df', 0.0001, 0.009, 0.0005),\n",
    "    'max_df': hp.quniform('max_df', 0.05, 0.2, 0.01),\n",
    "    'ngram_range': hp.choice('ngram_range', [(1,1), (1,2), (2,2)]),\n",
    "}\n",
    "\n",
    "\n",
    "best = fmin(fn=objective,\n",
    "            space=space,\n",
    "            algo=tpe.suggest,\n",
    "            max_evals=50)"
   ]
  },
  {
   "cell_type": "code",
   "execution_count": 52,
   "metadata": {},
   "outputs": [],
   "source": [
    "vectorizer = TfidfVectorizer(stop_words='english',\n",
    "                             norm=None,\n",
    "                             max_features=1500,\n",
    "                             min_df=0,\n",
    "                             max_df=0.2,\n",
    "                             ngram_range=(1,2))\n",
    "\n",
    "features_train = vectorizer.fit_transform(X_train).todense()\n",
    "features_test = vectorizer.transform(X_test).todense()\n",
    "\n",
    "train_matrix = pd.DataFrame(\n",
    "    features_train, \n",
    "    columns=vectorizer.get_feature_names()\n",
    ")\n",
    "test_matrix = pd.DataFrame(\n",
    "    features_test, \n",
    "    columns=vectorizer.get_feature_names()\n",
    ")\n",
    "\n",
    "lasso_cv = LassoCV(cv=10, n_jobs=-1)\n",
    "lasso_cv.fit(train_matrix, y_train)\n",
    "y_pred_lasso = lasso_cv.predict(test_matrix)"
   ]
  },
  {
   "cell_type": "code",
   "execution_count": 53,
   "metadata": {},
   "outputs": [
    {
     "data": {
      "text/html": [
       "<div>\n",
       "<style scoped>\n",
       "    .dataframe tbody tr th:only-of-type {\n",
       "        vertical-align: middle;\n",
       "    }\n",
       "\n",
       "    .dataframe tbody tr th {\n",
       "        vertical-align: top;\n",
       "    }\n",
       "\n",
       "    .dataframe thead th {\n",
       "        text-align: right;\n",
       "    }\n",
       "</style>\n",
       "<table border=\"1\" class=\"dataframe\">\n",
       "  <thead>\n",
       "    <tr style=\"text-align: right;\">\n",
       "      <th></th>\n",
       "      <th>error_type</th>\n",
       "      <th>naive</th>\n",
       "      <th>lasso_cv</th>\n",
       "      <th>lasso_cv_tuned</th>\n",
       "    </tr>\n",
       "  </thead>\n",
       "  <tbody>\n",
       "    <tr>\n",
       "      <th>0</th>\n",
       "      <td>MAE</td>\n",
       "      <td>0.762435</td>\n",
       "      <td>0.836261</td>\n",
       "      <td>0.812558</td>\n",
       "    </tr>\n",
       "    <tr>\n",
       "      <th>1</th>\n",
       "      <td>RMSE</td>\n",
       "      <td>1.460684</td>\n",
       "      <td>1.095142</td>\n",
       "      <td>1.069261</td>\n",
       "    </tr>\n",
       "    <tr>\n",
       "      <th>2</th>\n",
       "      <td>R2</td>\n",
       "      <td>-0.374484</td>\n",
       "      <td>0.227377</td>\n",
       "      <td>0.263463</td>\n",
       "    </tr>\n",
       "    <tr>\n",
       "      <th>3</th>\n",
       "      <td>MAPE</td>\n",
       "      <td>47.245167</td>\n",
       "      <td>36.440324</td>\n",
       "      <td>35.294427</td>\n",
       "    </tr>\n",
       "  </tbody>\n",
       "</table>\n",
       "</div>"
      ],
      "text/plain": [
       "  error_type      naive   lasso_cv  lasso_cv_tuned\n",
       "0        MAE   0.762435   0.836261        0.812558\n",
       "1       RMSE   1.460684   1.095142        1.069261\n",
       "2         R2  -0.374484   0.227377        0.263463\n",
       "3       MAPE  47.245167  36.440324       35.294427"
      ]
     },
     "execution_count": 53,
     "metadata": {},
     "output_type": "execute_result"
    }
   ],
   "source": [
    "measured_metrics[\"lasso_cv_tuned\"] = dataframe_metrics(y_test, y_pred_lasso)\n",
    "measured_metrics"
   ]
  },
  {
   "cell_type": "code",
   "execution_count": 54,
   "metadata": {},
   "outputs": [
    {
     "data": {
      "image/png": "[encoded data removed]",
      "text/plain": [
       "<Figure size 1296x576 with 1 Axes>"
      ]
     },
     "metadata": {
      "needs_background": "light"
     },
     "output_type": "display_data"
    }
   ],
   "source": [
    "featureImportance = pd.DataFrame({\"feature\": train_matrix.columns[abs(lasso_cv.coef_)>0.04], \n",
    "                                  \"importance\": lasso_cv.coef_[abs(lasso_cv.coef_)>0.04]})\n",
    "\n",
    "featureImportance.set_index('feature', inplace=True)\n",
    "featureImportance.sort_values([\"importance\"], ascending=False, inplace=True)\n",
    "featureImportance[\"importance\"].plot.bar();"
   ]
  },
  {
   "cell_type": "markdown",
   "metadata": {},
   "source": [
    "### 3. Conclusion"
   ]
  },
  {
   "cell_type": "markdown",
   "metadata": {},
   "source": [
    "Ожидаемо, наибольший вклад в высокую оценку вносят слова типа \"excellent\", \"great\", ...\n",
    "\n",
    "Также ожидаемо, что при наличии слов \"useless\", \"waste\", \"worst\"... рейтинг существенно ухудшается\n",
    "\n",
    "Несколько неожиданно, что в целом позитивные слова \"ok\", \"okay\" в топе отрицательных"
   ]
  }
 ],
 "metadata": {
  "kernelspec": {
   "display_name": "Python 3",
   "language": "python",
   "name": "python3"
  },
  "language_info": {
   "codemirror_mode": {
    "name": "ipython",
    "version": 3
   },
   "file_extension": ".py",
   "mimetype": "text/x-python",
   "name": "python",
   "nbconvert_exporter": "python",
   "pygments_lexer": "ipython3",
   "version": "3.7.7"
  }
 },
 "nbformat": 4,
 "nbformat_minor": 4
}
